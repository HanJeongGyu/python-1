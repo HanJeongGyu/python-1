{
  "nbformat": 4,
  "nbformat_minor": 0,
  "metadata": {
    "colab": {
      "provenance": [],
      "authorship_tag": "ABX9TyNpdMRwk1r0cB61uvAGZ4+j",
      "include_colab_link": true
    },
    "kernelspec": {
      "name": "python3",
      "display_name": "Python 3"
    },
    "language_info": {
      "name": "python"
    }
  },
  "cells": [
    {
      "cell_type": "markdown",
      "metadata": {
        "id": "view-in-github",
        "colab_type": "text"
      },
      "source": [
        "<a href=\"https://colab.research.google.com/github/HanJeongGyu/python-1/blob/main/day4.ipynb\" target=\"_parent\"><img src=\"https://colab.research.google.com/assets/colab-badge.svg\" alt=\"Open In Colab\"/></a>"
      ]
    },
    {
      "cell_type": "code",
      "execution_count": null,
      "metadata": {
        "colab": {
          "base_uri": "https://localhost:8080/"
        },
        "id": "hQG_360oJkDF",
        "outputId": "079a4bc3-b92e-4d7d-a9bd-d5fd47854694"
      },
      "outputs": [
        {
          "output_type": "stream",
          "name": "stdout",
          "text": [
            "1.3333333333333333\n",
            "0.5\n",
            "2\n",
            "1\n",
            "343\n"
          ]
        }
      ],
      "source": [
        "a = 4\n",
        "b = 3\n",
        "\n",
        "c = 1\n",
        "d = 2\n",
        "print(a/b)\n",
        "print(c/d)\n",
        "\n",
        "e = 7\n",
        "f = 3\n",
        "print(e//f)\n",
        "print(e%f)\n",
        "\n",
        "print(e**f)"
      ]
    },
    {
      "cell_type": "code",
      "source": [
        "quotient, remainder = divmod(5,2)\n",
        "print(quotient, remainder)"
      ],
      "metadata": {
        "colab": {
          "base_uri": "https://localhost:8080/"
        },
        "id": "pteFb546LMp6",
        "outputId": "2aac5db5-eb37-4179-b4d0-7e7f0ce48f9a"
      },
      "execution_count": null,
      "outputs": [
        {
          "output_type": "stream",
          "name": "stdout",
          "text": [
            "2 1\n"
          ]
        }
      ]
    },
    {
      "cell_type": "code",
      "source": [
        "i = 3\n",
        "i+=3\n",
        "print(i)\n",
        "i-=3\n",
        "print(i)\n",
        "i *=2\n",
        "print(i)\n",
        "i /=2\n",
        "print(int(i))\n",
        "i%=2\n",
        "print(i)"
      ],
      "metadata": {
        "colab": {
          "base_uri": "https://localhost:8080/"
        },
        "id": "Gv-2Y5vMNIPa",
        "outputId": "b8fbff37-d6ea-4a49-e2a6-df9837fdd731"
      },
      "execution_count": null,
      "outputs": [
        {
          "output_type": "stream",
          "name": "stdout",
          "text": [
            "6\n",
            "3\n",
            "6\n",
            "3\n",
            "1.0\n"
          ]
        }
      ]
    },
    {
      "cell_type": "code",
      "source": [
        "a=10\n",
        "\n",
        "b=3\n",
        "\n",
        "print(\"10==3 =>\",a==b)\n",
        "\n",
        "print(\"10!=3 =>\",a!=b)\n",
        "\n",
        "print(\"10>3 =>\",a>b)\n",
        "\n",
        "print(\"10>=3 =>\",a>=b)\n",
        "\n",
        "print(\"10<3 =>\",a<b)\n",
        "\n",
        "print(\"10<=3=>\",a<=b)\n",
        "\n",
        "print()"
      ],
      "metadata": {
        "colab": {
          "base_uri": "https://localhost:8080/"
        },
        "id": "9nnn97O4OK-R",
        "outputId": "e42abe5b-7f53-4473-b9dd-68358cecd09c"
      },
      "execution_count": null,
      "outputs": [
        {
          "output_type": "stream",
          "name": "stdout",
          "text": [
            "10==3 => False\n",
            "10!=3 => True\n",
            "10>3 => True\n",
            "10>=3 => True\n",
            "10<3 => False\n",
            "10<=3=> False\n",
            "\n"
          ]
        }
      ]
    },
    {
      "cell_type": "code",
      "source": [
        "bin(13)  # 10진수 13을 2진수로 변환\n",
        "'0b1101'\n",
        "0b1101   # 2진수 1101을 10진수로 변환\n",
        "13"
      ],
      "metadata": {
        "colab": {
          "base_uri": "https://localhost:8080/"
        },
        "id": "3l5BsC7GVJSB",
        "outputId": "2201ad40-f38d-4d54-ea54-ac4d1f1863b8"
      },
      "execution_count": null,
      "outputs": [
        {
          "output_type": "execute_result",
          "data": {
            "text/plain": [
              "13"
            ]
          },
          "metadata": {},
          "execution_count": 6
        }
      ]
    },
    {
      "cell_type": "code",
      "source": [
        "bin(0b1101 & 0b1001)   # 비트 AND\n",
        "'0b1001'\n",
        "13 & 9                 # 비트 AND\n",
        "9\n",
        "bin(0b1101 | 0b1001)   # 비트 OR\n",
        "'0b1101'\n",
        "13 | 9                 # 비트 OR\n",
        "13\n",
        "bin(0b1101 ^ 0b1001)   # 비트 XOR\n",
        "'0b100'\n",
        "13 ^ 9                 # 비트 XOR\n",
        "4\n",
        "bin(~0b1101)           # 비트 NOT\n",
        "'-0b1110'\n",
        "~13                    # 비트 NOT\n",
        "-14"
      ],
      "metadata": {
        "id": "nvTe7DZOWjXt",
        "outputId": "2dfd10c9-1381-4cd9-ea13-ddd0c9f02645",
        "colab": {
          "base_uri": "https://localhost:8080/"
        }
      },
      "execution_count": null,
      "outputs": [
        {
          "output_type": "execute_result",
          "data": {
            "text/plain": [
              "-14"
            ]
          },
          "metadata": {},
          "execution_count": 5
        }
      ]
    },
    {
      "cell_type": "code",
      "source": [
        "a = 12\n",
        "b= 8\n",
        "\n",
        "print(bin(a))\n",
        "print(bin(b))\n",
        "print(bin(a&b))\n",
        "print(' ')\n",
        "print(a&b)\n",
        "\n",
        "print(' ')\n",
        "print(bin(a))\n",
        "print(bin(b))\n",
        "print(bin(a|b))\n",
        "print(' ')\n",
        "print(a|b)\n",
        "\n",
        "print(' ')\n",
        "print(bin(a))\n",
        "print(bin(b))\n",
        "print(bin(a^b))\n",
        "print(' ')\n",
        "print(a^b)\n",
        "\n",
        "print(' ')\n",
        "print(bin(a))\n",
        "print(bin(~a))"
      ],
      "metadata": {
        "colab": {
          "base_uri": "https://localhost:8080/"
        },
        "id": "VPHKzm5PZLMS",
        "outputId": "7f3711a6-99fc-4756-c63a-ce04e39ccc87"
      },
      "execution_count": null,
      "outputs": [
        {
          "output_type": "stream",
          "name": "stdout",
          "text": [
            "0b1100\n",
            "0b1000\n",
            "0b1000\n",
            " \n",
            "8\n",
            " \n",
            "0b1100\n",
            "0b1000\n",
            "0b1100\n",
            " \n",
            "12\n",
            " \n",
            "0b1100\n",
            "0b1000\n",
            "0b100\n",
            " \n",
            "4\n",
            " \n",
            "0b1100\n",
            "-0b1101\n"
          ]
        }
      ]
    }
  ]
}