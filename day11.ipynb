{
  "nbformat": 4,
  "nbformat_minor": 0,
  "metadata": {
    "colab": {
      "provenance": [],
      "include_colab_link": true
    },
    "kernelspec": {
      "name": "python3",
      "display_name": "Python 3"
    },
    "language_info": {
      "name": "python"
    }
  },
  "cells": [
    {
      "cell_type": "markdown",
      "metadata": {
        "id": "view-in-github",
        "colab_type": "text"
      },
      "source": [
        "<a href=\"https://colab.research.google.com/github/HanJeongGyu/python-1/blob/main/day11.ipynb\" target=\"_parent\"><img src=\"https://colab.research.google.com/assets/colab-badge.svg\" alt=\"Open In Colab\"/></a>"
      ]
    },
    {
      "cell_type": "code",
      "execution_count": null,
      "metadata": {
        "id": "jPex174kwoCd"
      },
      "outputs": [],
      "source": [
        "f = open(\"newfile.txt\", 'w')\n",
        "f.close()\n",
        "\n",
        "f = open(\"/content/newfile.txt\", 'w') # directory 사용\n",
        "f.close()"
      ]
    },
    {
      "cell_type": "code",
      "source": [
        "f=open(\"/content/ex_memo.txt\",\"w\")\n",
        "students=['김철수','최영','한석규','김태희']\n",
        "for student in students:\n",
        "  msg=student\n",
        "  f.write(msg+\"\\n\")\n",
        "f.close()"
      ],
      "metadata": {
        "id": "fQH5GLEpzvOO"
      },
      "execution_count": null,
      "outputs": []
    },
    {
      "cell_type": "code",
      "source": [
        "file=open(\"/content/hello.txt\",'wt')\n",
        "file.write(\"미국 거지가 한국천재보다 영어를 잘한다.\")\n",
        "file.close()"
      ],
      "metadata": {
        "id": "fCOwSUpW1LRH"
      },
      "execution_count": null,
      "outputs": []
    },
    {
      "cell_type": "code",
      "source": [
        "f=open(\"/content/test.txt\",\"a\",encoding='UTF-8')\n",
        "\n",
        "for i in range(4,10):\n",
        "  data=\"%d 번째 줄입니다.\\n\"%i\n",
        "  f.write(data)\n",
        "f.close()"
      ],
      "metadata": {
        "id": "vS8VEzr01jFl"
      },
      "execution_count": null,
      "outputs": []
    },
    {
      "cell_type": "code",
      "source": [
        "dict1 = {'hello':1,'brother':2}\n",
        "\n",
        "file1 = open(\"Original.txt\",\"w\")\n",
        "\n",
        "st = repr(dict1)\n",
        "\n",
        "file1.write(\"dict1 = \"+st+\"\\n\")\n",
        "\n",
        "file1.close()"
      ],
      "metadata": {
        "id": "SeeT-ZFqFVHs"
      },
      "execution_count": null,
      "outputs": []
    },
    {
      "cell_type": "code",
      "source": [
        "test_file = open(\"test2.txt\",\"w\")\n",
        "\n",
        "a = 23\n",
        "\n",
        "b = 58\n",
        "\n",
        "test_file.write('%d + %d = %d' %(a, b, a+b)+'\\n')\n",
        "\n",
        "test_file.write('%d - %d = %d' %(a, b, a-b))\n",
        "\n",
        "test_file.close()"
      ],
      "metadata": {
        "id": "37fwNYbEFZdk"
      },
      "execution_count": null,
      "outputs": []
    },
    {
      "cell_type": "code",
      "source": [
        "from random import randint\n",
        "\n",
        "with open('text3.txt', 'w') as f:\n",
        "    f.write('이번주 로또 번호는 ->')\n",
        "    for lotto in range(6):\n",
        "      f.write(str(randint(0, 50))+',')"
      ],
      "metadata": {
        "id": "K21avWwoFau1"
      },
      "execution_count": null,
      "outputs": []
    },
    {
      "cell_type": "code",
      "source": [
        "lines = ['안녕하세요.\\n', '파이썬\\n', '코딩 도장입니다 \\n']\n",
        "\n",
        "with open('hello.txt', 'w') as file:\n",
        "  file.writelines(lines)\n",
        "\n",
        "file.close()"
      ],
      "metadata": {
        "id": "eks4VbzfFbyF"
      },
      "execution_count": null,
      "outputs": []
    },
    {
      "cell_type": "code",
      "source": [
        "f = open('ex_memo1.txt','w')\n",
        "students = ['김철수', '최영', '한석규', '김태희']\n",
        "for student in students:\n",
        "    msg = student\n",
        "    f.write(msg+\"\\n\")\n",
        "f.close()\n",
        "\n",
        "\n",
        "f = open('ex_memo1.txt','w')\n",
        "students = ['김철수', '최영', '한석규', '김태희']\n",
        "f.writelines('\\n'.join(students))\n",
        "f.close()"
      ],
      "metadata": {
        "id": "XyQ1LRQRFdKF"
      },
      "execution_count": null,
      "outputs": []
    },
    {
      "cell_type": "code",
      "source": [
        "print('\\n1.read()')\n",
        "print(f'위치 : {f.tell()}')\n",
        "s1 = f.read(2)\n",
        "print(s1)"
      ],
      "metadata": {
        "id": "7WOcuO7jzXv8",
        "colab": {
          "base_uri": "https://localhost:8080/",
          "height": 228
        },
        "outputId": "240f0590-6bec-49f2-a9cb-abef84e6547d"
      },
      "execution_count": null,
      "outputs": [
        {
          "output_type": "stream",
          "name": "stdout",
          "text": [
            "\n",
            "1.read()\n"
          ]
        },
        {
          "output_type": "error",
          "ename": "ValueError",
          "evalue": "I/O operation on closed file.",
          "traceback": [
            "\u001b[0;31m---------------------------------------------------------------------------\u001b[0m",
            "\u001b[0;31mValueError\u001b[0m                                Traceback (most recent call last)",
            "\u001b[0;32m<ipython-input-17-e8c2f175a423>\u001b[0m in \u001b[0;36m<cell line: 2>\u001b[0;34m()\u001b[0m\n\u001b[1;32m      1\u001b[0m \u001b[0mprint\u001b[0m\u001b[0;34m(\u001b[0m\u001b[0;34m'\\n1.read()'\u001b[0m\u001b[0;34m)\u001b[0m\u001b[0;34m\u001b[0m\u001b[0;34m\u001b[0m\u001b[0m\n\u001b[0;32m----> 2\u001b[0;31m \u001b[0mprint\u001b[0m\u001b[0;34m(\u001b[0m\u001b[0;34mf'위치 : {f.tell()}'\u001b[0m\u001b[0;34m)\u001b[0m\u001b[0;34m\u001b[0m\u001b[0;34m\u001b[0m\u001b[0m\n\u001b[0m\u001b[1;32m      3\u001b[0m \u001b[0ms1\u001b[0m \u001b[0;34m=\u001b[0m \u001b[0mf\u001b[0m\u001b[0;34m.\u001b[0m\u001b[0mread\u001b[0m\u001b[0;34m(\u001b[0m\u001b[0;36m2\u001b[0m\u001b[0;34m)\u001b[0m\u001b[0;34m\u001b[0m\u001b[0;34m\u001b[0m\u001b[0m\n\u001b[1;32m      4\u001b[0m \u001b[0mprint\u001b[0m\u001b[0;34m(\u001b[0m\u001b[0ms1\u001b[0m\u001b[0;34m)\u001b[0m\u001b[0;34m\u001b[0m\u001b[0;34m\u001b[0m\u001b[0m\n",
            "\u001b[0;31mValueError\u001b[0m: I/O operation on closed file."
          ]
        }
      ]
    },
    {
      "cell_type": "code",
      "source": [
        "print('\\n2.readline()')\n",
        "print(f'위치 : {f.tell()}')\n",
        "\n",
        "s2 = f.readline()\n",
        "print(s2)\n",
        "\n",
        "s2 = f.readline()\n",
        "print(s2)"
      ],
      "metadata": {
        "id": "5-uvA0TqzaBI",
        "colab": {
          "base_uri": "https://localhost:8080/",
          "height": 245
        },
        "outputId": "d5132915-f602-42e3-f030-b21d643980f8"
      },
      "execution_count": null,
      "outputs": [
        {
          "output_type": "stream",
          "name": "stdout",
          "text": [
            "\n",
            "2.readline()\n"
          ]
        },
        {
          "output_type": "error",
          "ename": "ValueError",
          "evalue": "I/O operation on closed file.",
          "traceback": [
            "\u001b[0;31m---------------------------------------------------------------------------\u001b[0m",
            "\u001b[0;31mValueError\u001b[0m                                Traceback (most recent call last)",
            "\u001b[0;32m<ipython-input-11-28d9ced44fb3>\u001b[0m in \u001b[0;36m<cell line: 2>\u001b[0;34m()\u001b[0m\n\u001b[1;32m      1\u001b[0m \u001b[0mprint\u001b[0m\u001b[0;34m(\u001b[0m\u001b[0;34m'\\n2.readline()'\u001b[0m\u001b[0;34m)\u001b[0m\u001b[0;34m\u001b[0m\u001b[0;34m\u001b[0m\u001b[0m\n\u001b[0;32m----> 2\u001b[0;31m \u001b[0mprint\u001b[0m\u001b[0;34m(\u001b[0m\u001b[0;34mf'위치 : {f.tell()}'\u001b[0m\u001b[0;34m)\u001b[0m\u001b[0;34m\u001b[0m\u001b[0;34m\u001b[0m\u001b[0m\n\u001b[0m\u001b[1;32m      3\u001b[0m \u001b[0;34m\u001b[0m\u001b[0m\n\u001b[1;32m      4\u001b[0m \u001b[0ms2\u001b[0m \u001b[0;34m=\u001b[0m \u001b[0mf\u001b[0m\u001b[0;34m.\u001b[0m\u001b[0mreadline\u001b[0m\u001b[0;34m(\u001b[0m\u001b[0;34m)\u001b[0m\u001b[0;34m\u001b[0m\u001b[0;34m\u001b[0m\u001b[0m\n\u001b[1;32m      5\u001b[0m \u001b[0mprint\u001b[0m\u001b[0;34m(\u001b[0m\u001b[0ms2\u001b[0m\u001b[0;34m)\u001b[0m\u001b[0;34m\u001b[0m\u001b[0;34m\u001b[0m\u001b[0m\n",
            "\u001b[0;31mValueError\u001b[0m: I/O operation on closed file."
          ]
        }
      ]
    },
    {
      "cell_type": "code",
      "source": [
        "print('\\n2.readline()')\n",
        "print(f'위치 : {f.tell()}')\n",
        "\n",
        "s2 = f.readlines()\n",
        "print(s2)"
      ],
      "metadata": {
        "id": "nqh4sWSnzbD4",
        "colab": {
          "base_uri": "https://localhost:8080/",
          "height": 245
        },
        "outputId": "b122a6be-1372-468a-fa40-df4e77791180"
      },
      "execution_count": null,
      "outputs": [
        {
          "output_type": "stream",
          "name": "stdout",
          "text": [
            "\n",
            "2.readline()\n"
          ]
        },
        {
          "output_type": "error",
          "ename": "ValueError",
          "evalue": "I/O operation on closed file.",
          "traceback": [
            "\u001b[0;31m---------------------------------------------------------------------------\u001b[0m",
            "\u001b[0;31mValueError\u001b[0m                                Traceback (most recent call last)",
            "\u001b[0;32m<ipython-input-12-0eb850e2b58c>\u001b[0m in \u001b[0;36m<cell line: 2>\u001b[0;34m()\u001b[0m\n\u001b[1;32m      1\u001b[0m \u001b[0mprint\u001b[0m\u001b[0;34m(\u001b[0m\u001b[0;34m'\\n2.readline()'\u001b[0m\u001b[0;34m)\u001b[0m\u001b[0;34m\u001b[0m\u001b[0;34m\u001b[0m\u001b[0m\n\u001b[0;32m----> 2\u001b[0;31m \u001b[0mprint\u001b[0m\u001b[0;34m(\u001b[0m\u001b[0;34mf'위치 : {f.tell()}'\u001b[0m\u001b[0;34m)\u001b[0m\u001b[0;34m\u001b[0m\u001b[0;34m\u001b[0m\u001b[0m\n\u001b[0m\u001b[1;32m      3\u001b[0m \u001b[0;34m\u001b[0m\u001b[0m\n\u001b[1;32m      4\u001b[0m \u001b[0ms2\u001b[0m \u001b[0;34m=\u001b[0m \u001b[0mf\u001b[0m\u001b[0;34m.\u001b[0m\u001b[0mreadlines\u001b[0m\u001b[0;34m(\u001b[0m\u001b[0;34m)\u001b[0m\u001b[0;34m\u001b[0m\u001b[0;34m\u001b[0m\u001b[0m\n\u001b[1;32m      5\u001b[0m \u001b[0mprint\u001b[0m\u001b[0;34m(\u001b[0m\u001b[0ms2\u001b[0m\u001b[0;34m)\u001b[0m\u001b[0;34m\u001b[0m\u001b[0;34m\u001b[0m\u001b[0m\n",
            "\u001b[0;31mValueError\u001b[0m: I/O operation on closed file."
          ]
        }
      ]
    },
    {
      "cell_type": "code",
      "source": [
        "print('\\n1. read()')\n",
        "print(f'위치 : {f.tell()}')\n",
        "s1 = f.read(1)\n",
        "print(s1)\n",
        "print(f'위치 : {f.tell()}')\n",
        "s1 = f.read(1)\n",
        "print(s1)\n",
        "\n",
        "print(f'위치 : {f.tell()}')"
      ],
      "metadata": {
        "id": "hfSnZbY5zcEK",
        "colab": {
          "base_uri": "https://localhost:8080/",
          "height": 245
        },
        "outputId": "d5f2cdb7-630a-4fa0-e120-6c2f03cdb45e"
      },
      "execution_count": null,
      "outputs": [
        {
          "output_type": "stream",
          "name": "stdout",
          "text": [
            "\n",
            "1. read()\n"
          ]
        },
        {
          "output_type": "error",
          "ename": "ValueError",
          "evalue": "I/O operation on closed file.",
          "traceback": [
            "\u001b[0;31m---------------------------------------------------------------------------\u001b[0m",
            "\u001b[0;31mValueError\u001b[0m                                Traceback (most recent call last)",
            "\u001b[0;32m<ipython-input-13-7a68f0f98a15>\u001b[0m in \u001b[0;36m<cell line: 2>\u001b[0;34m()\u001b[0m\n\u001b[1;32m      1\u001b[0m \u001b[0mprint\u001b[0m\u001b[0;34m(\u001b[0m\u001b[0;34m'\\n1. read()'\u001b[0m\u001b[0;34m)\u001b[0m\u001b[0;34m\u001b[0m\u001b[0;34m\u001b[0m\u001b[0m\n\u001b[0;32m----> 2\u001b[0;31m \u001b[0mprint\u001b[0m\u001b[0;34m(\u001b[0m\u001b[0;34mf'위치 : {f.tell()}'\u001b[0m\u001b[0;34m)\u001b[0m\u001b[0;34m\u001b[0m\u001b[0;34m\u001b[0m\u001b[0m\n\u001b[0m\u001b[1;32m      3\u001b[0m \u001b[0ms1\u001b[0m \u001b[0;34m=\u001b[0m \u001b[0mf\u001b[0m\u001b[0;34m.\u001b[0m\u001b[0mread\u001b[0m\u001b[0;34m(\u001b[0m\u001b[0;36m1\u001b[0m\u001b[0;34m)\u001b[0m\u001b[0;34m\u001b[0m\u001b[0;34m\u001b[0m\u001b[0m\n\u001b[1;32m      4\u001b[0m \u001b[0mprint\u001b[0m\u001b[0;34m(\u001b[0m\u001b[0ms1\u001b[0m\u001b[0;34m)\u001b[0m\u001b[0;34m\u001b[0m\u001b[0;34m\u001b[0m\u001b[0m\n\u001b[1;32m      5\u001b[0m \u001b[0mprint\u001b[0m\u001b[0;34m(\u001b[0m\u001b[0;34mf'위치 : {f.tell()}'\u001b[0m\u001b[0;34m)\u001b[0m\u001b[0;34m\u001b[0m\u001b[0;34m\u001b[0m\u001b[0m\n",
            "\u001b[0;31mValueError\u001b[0m: I/O operation on closed file."
          ]
        }
      ]
    },
    {
      "cell_type": "code",
      "source": [
        "f = open('test.txt', 'r', encoding='UTF-8')\n",
        "line = f.readline()\n",
        "line = line.strip()\n",
        "print(line)\n",
        "line = f.readline()\n",
        "line = line.strip()\n",
        "print(line)\n",
        "line = f.readline()\n",
        "line = line.strip()\n",
        "print(line)\n",
        "line = f.readline()\n",
        "line = line.strip()\n",
        "print(line)\n",
        "line = f.readline()\n",
        "line = line.strip()\n",
        "\n",
        "f.close()"
      ],
      "metadata": {
        "colab": {
          "base_uri": "https://localhost:8080/"
        },
        "id": "MZzxQxUQzdDw",
        "outputId": "28066614-dae6-4b1d-d21e-5babcf79a549"
      },
      "execution_count": null,
      "outputs": [
        {
          "output_type": "stream",
          "name": "stdout",
          "text": [
            "4 번째 줄입니다.\n",
            "5 번째 줄입니다.\n",
            "6 번째 줄입니다.\n",
            "7 번째 줄입니다.\n"
          ]
        }
      ]
    },
    {
      "cell_type": "code",
      "source": [
        "f = open(r'text.txt')\n",
        "\n",
        "print('\\n4. seek(0), readline()')\n",
        "\n",
        "f.seek(0)\n",
        "print(f'위치 : {f.tell()}')\n",
        "\n",
        "s4 = f.readline()\n",
        "print(s4)\n",
        "\n",
        "f.close()\n"
      ],
      "metadata": {
        "colab": {
          "base_uri": "https://localhost:8080/",
          "height": 211
        },
        "id": "mKS0yM1wzeF0",
        "outputId": "0abfe526-5f4f-4a31-90df-372c41667ffb"
      },
      "execution_count": null,
      "outputs": [
        {
          "output_type": "error",
          "ename": "FileNotFoundError",
          "evalue": "[Errno 2] No such file or directory: 'text.txt'",
          "traceback": [
            "\u001b[0;31m---------------------------------------------------------------------------\u001b[0m",
            "\u001b[0;31mFileNotFoundError\u001b[0m                         Traceback (most recent call last)",
            "\u001b[0;32m<ipython-input-15-a2ea6fbde39a>\u001b[0m in \u001b[0;36m<cell line: 1>\u001b[0;34m()\u001b[0m\n\u001b[0;32m----> 1\u001b[0;31m \u001b[0mf\u001b[0m \u001b[0;34m=\u001b[0m \u001b[0mopen\u001b[0m\u001b[0;34m(\u001b[0m\u001b[0;34mr'text.txt'\u001b[0m\u001b[0;34m)\u001b[0m\u001b[0;34m\u001b[0m\u001b[0;34m\u001b[0m\u001b[0m\n\u001b[0m\u001b[1;32m      2\u001b[0m \u001b[0;34m\u001b[0m\u001b[0m\n\u001b[1;32m      3\u001b[0m \u001b[0mprint\u001b[0m\u001b[0;34m(\u001b[0m\u001b[0;34m'\\n4. seek(0), readline()'\u001b[0m\u001b[0;34m)\u001b[0m\u001b[0;34m\u001b[0m\u001b[0;34m\u001b[0m\u001b[0m\n\u001b[1;32m      4\u001b[0m \u001b[0;34m\u001b[0m\u001b[0m\n\u001b[1;32m      5\u001b[0m \u001b[0mf\u001b[0m\u001b[0;34m.\u001b[0m\u001b[0mseek\u001b[0m\u001b[0;34m(\u001b[0m\u001b[0;36m0\u001b[0m\u001b[0;34m)\u001b[0m\u001b[0;34m\u001b[0m\u001b[0;34m\u001b[0m\u001b[0m\n",
            "\u001b[0;31mFileNotFoundError\u001b[0m: [Errno 2] No such file or directory: 'text.txt'"
          ]
        }
      ]
    }
  ]
}