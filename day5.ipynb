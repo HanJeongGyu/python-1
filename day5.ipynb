{
  "nbformat": 4,
  "nbformat_minor": 0,
  "metadata": {
    "colab": {
      "provenance": [],
      "authorship_tag": "ABX9TyN/Exyz9j3VZzF/1FG51t36",
      "include_colab_link": true
    },
    "kernelspec": {
      "name": "python3",
      "display_name": "Python 3"
    },
    "language_info": {
      "name": "python"
    }
  },
  "cells": [
    {
      "cell_type": "markdown",
      "metadata": {
        "id": "view-in-github",
        "colab_type": "text"
      },
      "source": [
        "<a href=\"https://colab.research.google.com/github/HanJeongGyu/python-1/blob/main/day5.ipynb\" target=\"_parent\"><img src=\"https://colab.research.google.com/assets/colab-badge.svg\" alt=\"Open In Colab\"/></a>"
      ]
    },
    {
      "cell_type": "code",
      "execution_count": 1,
      "metadata": {
        "colab": {
          "base_uri": "https://localhost:8080/"
        },
        "id": "WCSisGugdcmU",
        "outputId": "757b16b9-0d2b-4059-f8b5-0db3d86970c0"
      },
      "outputs": [
        {
          "output_type": "stream",
          "name": "stdout",
          "text": [
            "이름이 맞습니다\n"
          ]
        }
      ],
      "source": [
        "name = \"test\"\n",
        "if name == \"test\":\n",
        "    print(\"이름이 맞습니다\")\n",
        "else:\n",
        "    print(\"이름이 틀립니다.\")"
      ]
    },
    {
      "cell_type": "code",
      "source": [
        "pocket = 500\n",
        "if pocket == 1000:\n",
        "    print(\"복권 구매\")\n",
        "elif pocket ==500:\n",
        "    print(\"껌 구매\")\n",
        "else:\n",
        "    print(\"집이나 가야지\")"
      ],
      "metadata": {
        "colab": {
          "base_uri": "https://localhost:8080/"
        },
        "id": "T0FaCTyGdpwG",
        "outputId": "e99281c4-656d-469d-c8c9-a368de31cfc3"
      },
      "execution_count": 2,
      "outputs": [
        {
          "output_type": "stream",
          "name": "stdout",
          "text": [
            "껌 구매\n"
          ]
        }
      ]
    },
    {
      "cell_type": "code",
      "source": [
        "a = \"사과\"\n",
        "b = \"바나나\"\n",
        "c = \"치즈\"\n",
        "if a == \"사과\" or b == \"안바나나\":\n",
        "    print(\"사과 이거나 바나나 입니다.\")\n",
        "\n",
        "if a == \"사과\" and b == \"바나나\":\n",
        "    print(\"사과 이고 바나나 입니다.\")\n",
        "\n",
        "if not c == \"사과\":\n",
        "    print(\"사과가 아니어야 여기 들어옵니다.\")"
      ],
      "metadata": {
        "colab": {
          "base_uri": "https://localhost:8080/"
        },
        "id": "bYkflvNLeW8C",
        "outputId": "5952dba1-81ff-49db-cbe0-294546f3517c"
      },
      "execution_count": 3,
      "outputs": [
        {
          "output_type": "stream",
          "name": "stdout",
          "text": [
            "사과 이거나 바나나 입니다.\n",
            "사과 이고 바나나 입니다.\n",
            "사과가 아니어야 여기 들어옵니다.\n"
          ]
        }
      ]
    },
    {
      "cell_type": "code",
      "source": [
        "a = [1,2,3,4,5,6,7,8,9,10]\n",
        "\n",
        "if 1 in a:\n",
        "    print(\"1 is in a\")\n",
        "\n",
        "if 10 in a:\n",
        "    print(\"10 is in a\")"
      ],
      "metadata": {
        "colab": {
          "base_uri": "https://localhost:8080/"
        },
        "id": "MWVlclvaeY87",
        "outputId": "be3e124c-1eb7-4224-bb77-e681fbfccff1"
      },
      "execution_count": 4,
      "outputs": [
        {
          "output_type": "stream",
          "name": "stdout",
          "text": [
            "1 is in a\n",
            "10 is in a\n"
          ]
        }
      ]
    },
    {
      "cell_type": "code",
      "source": [
        "p_class = \"Z\"\n",
        "sel_amount = 79900\n",
        "\n",
        "if p_class == \"A\":\n",
        "    sel_amount *= 0.7\n",
        "    print(sel_amount)\n",
        "elif p_class == \"B\":\n",
        "    sel_amount *= 0.85\n",
        "    print(sel_amount)\n",
        "elif p_class == \"C\":\n",
        "    sel_amount *= 0.92\n",
        "    print(sel_amount)\n",
        "elif p_class == \"Z\":\n",
        "    sel_amount += 5000\n",
        "    print(sel_amount)"
      ],
      "metadata": {
        "colab": {
          "base_uri": "https://localhost:8080/"
        },
        "id": "fh1TY2odgNl3",
        "outputId": "06b0491b-052e-408d-e6dc-9cffbddf418b"
      },
      "execution_count": 5,
      "outputs": [
        {
          "output_type": "stream",
          "name": "stdout",
          "text": [
            "84900\n"
          ]
        }
      ]
    },
    {
      "cell_type": "code",
      "source": [
        "p_class = \"A\"\n",
        "sel_amount = 79900\n",
        "\n",
        "if p_class == \"A\":\n",
        "    sel_amount *= 0.7\n",
        "    print(f'판매가는 {sel_amount}원 입니다.')\n",
        "elif p_class == \"B\":\n",
        "    sel_amount *= 0.85\n",
        "    print(f'판매가는 {sel_amount}원 입니다.')\n",
        "    print('판매가는 %f입니다' % sel_amount)"
      ],
      "metadata": {
        "colab": {
          "base_uri": "https://localhost:8080/"
        },
        "id": "gXlj15GMgPOu",
        "outputId": "cdcfa41b-ec8d-40bd-fc38-716e3f2f9d46"
      },
      "execution_count": 6,
      "outputs": [
        {
          "output_type": "stream",
          "name": "stdout",
          "text": [
            "판매가는 55930.0원 입니다.\n"
          ]
        }
      ]
    },
    {
      "cell_type": "code",
      "source": [
        "X =11\n",
        "if X %2 == 0:\n",
        "    print(\"Even number\")\n",
        "\n",
        "else:\n",
        "    print(\"Odd Number\")"
      ],
      "metadata": {
        "colab": {
          "base_uri": "https://localhost:8080/"
        },
        "id": "V3C9VlIDg3xx",
        "outputId": "170c984f-8e27-4e7a-d41b-72029234d730"
      },
      "execution_count": 8,
      "outputs": [
        {
          "output_type": "stream",
          "name": "stdout",
          "text": [
            "Odd Number\n"
          ]
        }
      ]
    },
    {
      "cell_type": "code",
      "source": [
        "X = 12\n",
        "\n",
        "if X < 10:\n",
        "  print('X는 10보다 작아!')\n",
        "  if X%2 == 0:\n",
        "      print('X는 짝수야!')\n",
        "  else:\n",
        "      print(\"X는 홀수야!\")\n",
        "else:\n",
        "  print('X는 10보다 커!')\n",
        "  if X%2 ==0:\n",
        "      print('X는 짝수야!')\n",
        "  else:\n",
        "    print('X는 홀수야!')"
      ],
      "metadata": {
        "colab": {
          "base_uri": "https://localhost:8080/"
        },
        "id": "KM9BHkhNh0e6",
        "outputId": "86bf3a17-0207-44e5-cbb2-fb08640b6be4"
      },
      "execution_count": 9,
      "outputs": [
        {
          "output_type": "stream",
          "name": "stdout",
          "text": [
            "X는 10보다 커!\n",
            "X는 짝수야!\n"
          ]
        }
      ]
    },
    {
      "cell_type": "code",
      "source": [
        "X = 12\n",
        "\n",
        "if X<10 and X%2==0:\n",
        "    print('X는 10보다 작으면서 짝수야!')\n",
        "if X<10 and not X%2==0:\n",
        "    print('X는 10보다 작으면서 홀수야!')\n",
        "if not X<10 and X%2== 0:\n",
        "    print('X는 10보다 크면서 짝수야!')\n",
        "if not X<10 and not X&2==0:\n",
        "    print('X는 10보다 크면서 홀수야')"
      ],
      "metadata": {
        "colab": {
          "base_uri": "https://localhost:8080/"
        },
        "id": "tp_RP-QmiOR2",
        "outputId": "d2d9845d-a607-4378-bb66-c7d65d087859"
      },
      "execution_count": 10,
      "outputs": [
        {
          "output_type": "stream",
          "name": "stdout",
          "text": [
            "X는 10보다 크면서 짝수야!\n"
          ]
        }
      ]
    },
    {
      "cell_type": "code",
      "source": [
        "treeHit = 0\n",
        "\n",
        "while treeHit < 10:\n",
        "    treeHit = treeHit +1\n",
        "    print(\"나무를 %d번 찍었습니다.\" % treeHit)\n",
        "    if treeHit == 10:\n",
        "      print(\"나무 넘어갑니다.\")"
      ],
      "metadata": {
        "colab": {
          "base_uri": "https://localhost:8080/"
        },
        "id": "FzcXLtr4i9d_",
        "outputId": "3e00e850-431c-4880-d0be-2496f4ad7c6e"
      },
      "execution_count": 11,
      "outputs": [
        {
          "output_type": "stream",
          "name": "stdout",
          "text": [
            "나무를 1번 찍었습니다.\n",
            "나무를 2번 찍었습니다.\n",
            "나무를 3번 찍었습니다.\n",
            "나무를 4번 찍었습니다.\n",
            "나무를 5번 찍었습니다.\n",
            "나무를 6번 찍었습니다.\n",
            "나무를 7번 찍었습니다.\n",
            "나무를 8번 찍었습니다.\n",
            "나무를 9번 찍었습니다.\n",
            "나무를 10번 찍었습니다.\n",
            "나무 넘어갑니다.\n"
          ]
        }
      ]
    },
    {
      "cell_type": "code",
      "source": [
        "coffee = 10\n",
        "money = 300\n",
        "while money:\n",
        "    print(\"돈을 받았으니 커피를 줍니다.\")\n",
        "    coffee = coffee -1\n",
        "    print(\"남은 커피의 양은 %d개입니다.\" % coffee)\n",
        "    if coffee == 0:\n",
        "        print(\"커피가 다 떨어졌습니다. 판매를 중지합니다.\")\n",
        "        break"
      ],
      "metadata": {
        "colab": {
          "base_uri": "https://localhost:8080/"
        },
        "id": "28kAMkbqlmKt",
        "outputId": "41b2263f-9e68-4127-83b4-a9cf95908138"
      },
      "execution_count": 12,
      "outputs": [
        {
          "output_type": "stream",
          "name": "stdout",
          "text": [
            "돈을 받았으니 커피를 줍니다.\n",
            "남은 커피의 양은 9개입니다.\n",
            "돈을 받았으니 커피를 줍니다.\n",
            "남은 커피의 양은 8개입니다.\n",
            "돈을 받았으니 커피를 줍니다.\n",
            "남은 커피의 양은 7개입니다.\n",
            "돈을 받았으니 커피를 줍니다.\n",
            "남은 커피의 양은 6개입니다.\n",
            "돈을 받았으니 커피를 줍니다.\n",
            "남은 커피의 양은 5개입니다.\n",
            "돈을 받았으니 커피를 줍니다.\n",
            "남은 커피의 양은 4개입니다.\n",
            "돈을 받았으니 커피를 줍니다.\n",
            "남은 커피의 양은 3개입니다.\n",
            "돈을 받았으니 커피를 줍니다.\n",
            "남은 커피의 양은 2개입니다.\n",
            "돈을 받았으니 커피를 줍니다.\n",
            "남은 커피의 양은 1개입니다.\n",
            "돈을 받았으니 커피를 줍니다.\n",
            "남은 커피의 양은 0개입니다.\n",
            "커피가 다 떨어졌습니다. 판매를 중지합니다.\n"
          ]
        }
      ]
    },
    {
      "cell_type": "code",
      "source": [
        "while True:\n",
        "    print(\"Ctrl+C를 눌러야 while문을 빠져나갈 수 있습니다.\")"
      ],
      "metadata": {
        "id": "bJbTCMeMnUxI"
      },
      "execution_count": null,
      "outputs": []
    },
    {
      "cell_type": "code",
      "source": [
        "i = 0\n",
        "result1 = 0\n",
        "while i < 100:\n",
        "    i = i +1\n",
        "    if i % 2 == 0:\n",
        "      print('1번 방법 : {0} {1}' .format(i,result1))\n",
        "      result1 = result1 + i\n",
        "\n",
        "print('1번 방법 : {0}' .format(result1))"
      ],
      "metadata": {
        "colab": {
          "base_uri": "https://localhost:8080/"
        },
        "id": "crgT5ht9nw10",
        "outputId": "a3387049-9a24-40ca-9fcf-d33d7e501f97"
      },
      "execution_count": 1,
      "outputs": [
        {
          "output_type": "stream",
          "name": "stdout",
          "text": [
            "1번 방법 : 2 0\n",
            "1번 방법 : 4 2\n",
            "1번 방법 : 6 6\n",
            "1번 방법 : 8 12\n",
            "1번 방법 : 10 20\n",
            "1번 방법 : 12 30\n",
            "1번 방법 : 14 42\n",
            "1번 방법 : 16 56\n",
            "1번 방법 : 18 72\n",
            "1번 방법 : 20 90\n",
            "1번 방법 : 22 110\n",
            "1번 방법 : 24 132\n",
            "1번 방법 : 26 156\n",
            "1번 방법 : 28 182\n",
            "1번 방법 : 30 210\n",
            "1번 방법 : 32 240\n",
            "1번 방법 : 34 272\n",
            "1번 방법 : 36 306\n",
            "1번 방법 : 38 342\n",
            "1번 방법 : 40 380\n",
            "1번 방법 : 42 420\n",
            "1번 방법 : 44 462\n",
            "1번 방법 : 46 506\n",
            "1번 방법 : 48 552\n",
            "1번 방법 : 50 600\n",
            "1번 방법 : 52 650\n",
            "1번 방법 : 54 702\n",
            "1번 방법 : 56 756\n",
            "1번 방법 : 58 812\n",
            "1번 방법 : 60 870\n",
            "1번 방법 : 62 930\n",
            "1번 방법 : 64 992\n",
            "1번 방법 : 66 1056\n",
            "1번 방법 : 68 1122\n",
            "1번 방법 : 70 1190\n",
            "1번 방법 : 72 1260\n",
            "1번 방법 : 74 1332\n",
            "1번 방법 : 76 1406\n",
            "1번 방법 : 78 1482\n",
            "1번 방법 : 80 1560\n",
            "1번 방법 : 82 1640\n",
            "1번 방법 : 84 1722\n",
            "1번 방법 : 86 1806\n",
            "1번 방법 : 88 1892\n",
            "1번 방법 : 90 1980\n",
            "1번 방법 : 92 2070\n",
            "1번 방법 : 94 2162\n",
            "1번 방법 : 96 2256\n",
            "1번 방법 : 98 2352\n",
            "1번 방법 : 100 2450\n",
            "1번 방법 : 2550\n"
          ]
        }
      ]
    }
  ]
}