{
  "nbformat": 4,
  "nbformat_minor": 0,
  "metadata": {
    "colab": {
      "provenance": [],
      "authorship_tag": "ABX9TyM9FqJco+dx/b+HUQt5RCG/",
      "include_colab_link": true
    },
    "kernelspec": {
      "name": "python3",
      "display_name": "Python 3"
    },
    "language_info": {
      "name": "python"
    }
  },
  "cells": [
    {
      "cell_type": "markdown",
      "metadata": {
        "id": "view-in-github",
        "colab_type": "text"
      },
      "source": [
        "<a href=\"https://colab.research.google.com/github/HanJeongGyu/python-1/blob/main/day10.ipynb\" target=\"_parent\"><img src=\"https://colab.research.google.com/assets/colab-badge.svg\" alt=\"Open In Colab\"/></a>"
      ]
    },
    {
      "cell_type": "code",
      "execution_count": 2,
      "metadata": {
        "id": "OZQ_JOnQ-sa0"
      },
      "outputs": [],
      "source": [
        "def my_avg(x1, x2):\n",
        "    \"\"\"\n",
        "    This function calculates average value of two numbers\n",
        "    x1: first input number\n",
        "    x2: second input number\n",
        "    \"\"\"\n",
        "    avg_val = (float(x1) + float(x2))/2\n",
        "    return avg_val"
      ]
    },
    {
      "cell_type": "code",
      "source": [
        "def func2(a, b):\n",
        "    print(f'{a} 곱하기 {b} = {a * b}')\n",
        "\n",
        "# 함수 호출\n",
        "func2(1, 2)\n",
        "func2(1, 3)\n",
        "func2(2, 4)\n"
      ],
      "metadata": {
        "colab": {
          "base_uri": "https://localhost:8080/"
        },
        "id": "vEn96DAu-6EL",
        "outputId": "bac0e99f-8143-4d76-dd09-c1d79bfc39f5"
      },
      "execution_count": 3,
      "outputs": [
        {
          "output_type": "stream",
          "name": "stdout",
          "text": [
            "1 곱하기 2 = 2\n",
            "1 곱하기 3 = 3\n",
            "2 곱하기 4 = 8\n"
          ]
        }
      ]
    },
    {
      "cell_type": "code",
      "source": [
        "def func3():\n",
        "    return \"abcdefg\"\n",
        "\n",
        "# 함수 호출\n",
        "\n",
        "a = func3()\n",
        "print(a + \"GG\")\n"
      ],
      "metadata": {
        "colab": {
          "base_uri": "https://localhost:8080/"
        },
        "id": "fubwJZbU_F0S",
        "outputId": "fee010f5-3782-4516-df79-0102501852a5"
      },
      "execution_count": 4,
      "outputs": [
        {
          "output_type": "stream",
          "name": "stdout",
          "text": [
            "abcdefgGG\n"
          ]
        }
      ]
    },
    {
      "cell_type": "code",
      "source": [
        "def func4(a, b):\n",
        "    return a * b\n",
        "\n",
        "# 함수 호출\n",
        "c = func4(3, 9)\n",
        "print(c)\n"
      ],
      "metadata": {
        "colab": {
          "base_uri": "https://localhost:8080/"
        },
        "id": "4hA1qnow_KMl",
        "outputId": "585d76ab-bcf8-4aed-c16e-cb763544db63"
      },
      "execution_count": 5,
      "outputs": [
        {
          "output_type": "stream",
          "name": "stdout",
          "text": [
            "27\n"
          ]
        }
      ]
    },
    {
      "cell_type": "code",
      "source": [
        "#for문 활용\n",
        "for i in range(1, 10):\n",
        "    print(f'{2} x {i} = {2 * i}')\n",
        "for i in range(1, 10):\n",
        "    print(f'{3} x {i} = {3 * i}')\n",
        "\n",
        "# ...\n",
        "for i in range(1, 10):\n",
        "    print(f'{9} x {i} = {9 * i}')"
      ],
      "metadata": {
        "colab": {
          "base_uri": "https://localhost:8080/"
        },
        "id": "2ZTFLywE_PtL",
        "outputId": "4bc04374-8aee-4c14-cdac-168b1848a33e"
      },
      "execution_count": 6,
      "outputs": [
        {
          "output_type": "stream",
          "name": "stdout",
          "text": [
            "2 x 1 = 2\n",
            "2 x 2 = 4\n",
            "2 x 3 = 6\n",
            "2 x 4 = 8\n",
            "2 x 5 = 10\n",
            "2 x 6 = 12\n",
            "2 x 7 = 14\n",
            "2 x 8 = 16\n",
            "2 x 9 = 18\n",
            "3 x 1 = 3\n",
            "3 x 2 = 6\n",
            "3 x 3 = 9\n",
            "3 x 4 = 12\n",
            "3 x 5 = 15\n",
            "3 x 6 = 18\n",
            "3 x 7 = 21\n",
            "3 x 8 = 24\n",
            "3 x 9 = 27\n",
            "9 x 1 = 9\n",
            "9 x 2 = 18\n",
            "9 x 3 = 27\n",
            "9 x 4 = 36\n",
            "9 x 5 = 45\n",
            "9 x 6 = 54\n",
            "9 x 7 = 63\n",
            "9 x 8 = 72\n",
            "9 x 9 = 81\n"
          ]
        }
      ]
    },
    {
      "cell_type": "code",
      "source": [
        "#함수 활용\n",
        "def gugudan(num):\n",
        "    for i in range(1, 10):\n",
        "        print(f'{num} x {i} = {num * i}')\n",
        "\n",
        "# 구구단 출력\n",
        "gugudan(2)\n",
        "gugudan(3)\n",
        "# ...\n",
        "gugudan(9)\n"
      ],
      "metadata": {
        "colab": {
          "base_uri": "https://localhost:8080/"
        },
        "id": "zSWZ3e5V_X5J",
        "outputId": "bf963fff-53f1-4bd5-d837-0a337c8d3f92"
      },
      "execution_count": 7,
      "outputs": [
        {
          "output_type": "stream",
          "name": "stdout",
          "text": [
            "2 x 1 = 2\n",
            "2 x 2 = 4\n",
            "2 x 3 = 6\n",
            "2 x 4 = 8\n",
            "2 x 5 = 10\n",
            "2 x 6 = 12\n",
            "2 x 7 = 14\n",
            "2 x 8 = 16\n",
            "2 x 9 = 18\n",
            "3 x 1 = 3\n",
            "3 x 2 = 6\n",
            "3 x 3 = 9\n",
            "3 x 4 = 12\n",
            "3 x 5 = 15\n",
            "3 x 6 = 18\n",
            "3 x 7 = 21\n",
            "3 x 8 = 24\n",
            "3 x 9 = 27\n",
            "9 x 1 = 9\n",
            "9 x 2 = 18\n",
            "9 x 3 = 27\n",
            "9 x 4 = 36\n",
            "9 x 5 = 45\n",
            "9 x 6 = 54\n",
            "9 x 7 = 63\n",
            "9 x 8 = 72\n",
            "9 x 9 = 81\n"
          ]
        }
      ]
    },
    {
      "cell_type": "code",
      "source": [
        "def func1(a, b=5, c=10):\n",
        "    return a + b + c\n",
        "\n",
        "func1(1, 2, 3)  # 1 + 2 + 3\n",
        "func1(1, 2)  # 1 + 2 + 10\n",
        "func1(1)  # 1 + 5 + 10"
      ],
      "metadata": {
        "colab": {
          "base_uri": "https://localhost:8080/"
        },
        "id": "e5521OPC_fTf",
        "outputId": "8267272e-f988-42e6-8dff-057095cdb65b"
      },
      "execution_count": 8,
      "outputs": [
        {
          "output_type": "execute_result",
          "data": {
            "text/plain": [
              "16"
            ]
          },
          "metadata": {},
          "execution_count": 8
        }
      ]
    },
    {
      "cell_type": "code",
      "source": [
        "def func2(a=10, b=20):\n",
        "    return a + b\n",
        "\n",
        "func2(1, 2)  # 1 + 2\n",
        "func2(1)  # 1 + 20\n",
        "func2()  # 10 + 20"
      ],
      "metadata": {
        "colab": {
          "base_uri": "https://localhost:8080/"
        },
        "id": "7bAOIF6K_5_T",
        "outputId": "f048a39d-dea0-441b-9ea4-fd3c6e446f43"
      },
      "execution_count": 9,
      "outputs": [
        {
          "output_type": "execute_result",
          "data": {
            "text/plain": [
              "30"
            ]
          },
          "metadata": {},
          "execution_count": 9
        }
      ]
    },
    {
      "cell_type": "code",
      "source": [
        "def func6(*args):\n",
        "    a = 0\n",
        "    for i in args:\n",
        "        a = a + i\n",
        "    return a\n",
        "\n",
        "\n",
        "b = func6(1, 2)\n",
        "print(b)\n",
        "\n",
        "c = func6(2, 3, 4, 5)\n",
        "print(c)\n",
        "\n",
        "d = func6(1, 2, 3, 4, 5, 4, 3, 2, 1)\n",
        "print(d)\n",
        "\n",
        "e = func6()\n",
        "print(e)\n",
        "\n",
        "def 함수이름 (*매개변수):\n",
        "    수행문장\n",
        "    return 반환값\n",
        "\n",
        "def test(*val):\n",
        "    for i in val:\n",
        "        print(i)\n",
        "\n",
        "test(1, 'a', 'c', 3)"
      ],
      "metadata": {
        "colab": {
          "base_uri": "https://localhost:8080/"
        },
        "id": "zjoPtpGHAAOc",
        "outputId": "82d989de-67c3-4e3c-977c-aabc4583028f"
      },
      "execution_count": 12,
      "outputs": [
        {
          "output_type": "stream",
          "name": "stdout",
          "text": [
            "3\n",
            "14\n",
            "25\n",
            "0\n",
            "1\n",
            "a\n",
            "c\n",
            "3\n"
          ]
        }
      ]
    },
    {
      "cell_type": "code",
      "source": [
        "def sum_mul(choice, *val):\n",
        "    if choice =='sum':\n",
        "       result = 0\n",
        "       for i in val:\n",
        "        result  = result + i\n",
        "    elif choice == 'mul':\n",
        "       result = 0\n",
        "       for i in val:\n",
        "        result  = result * i\n",
        "    return result\n",
        "\n",
        "\n",
        "print (sum_mul('sum', 1,2,3,4,5))"
      ],
      "metadata": {
        "colab": {
          "base_uri": "https://localhost:8080/"
        },
        "id": "s9xWywArAb2D",
        "outputId": "0422cf01-990c-49b2-aa86-5e057f136f39"
      },
      "execution_count": 14,
      "outputs": [
        {
          "output_type": "stream",
          "name": "stdout",
          "text": [
            "15\n"
          ]
        }
      ]
    },
    {
      "cell_type": "code",
      "source": [
        "def comp (score=0):\n",
        "    if score == 0:\n",
        "        return 0\n",
        "    elif score > 50:\n",
        "        return 2\n",
        "    else:\n",
        "        return 1\n",
        "\n",
        "grade = comp (40)\n",
        "print (\"Grade is \", grade, \" for \", 40)\n",
        "\n",
        "grade = comp (80)\n",
        "print (\"Grade is \", grade, \" for \", 80)\n",
        "\n",
        "grade = comp ()\n",
        "print (\"Grade is \", grade, \"for no score\")\n"
      ],
      "metadata": {
        "colab": {
          "base_uri": "https://localhost:8080/"
        },
        "id": "CblK5TUPAsDM",
        "outputId": "697dd524-640a-4718-f6cb-3bb04a2b5fb9"
      },
      "execution_count": 15,
      "outputs": [
        {
          "output_type": "stream",
          "name": "stdout",
          "text": [
            "Grade is  1  for  40\n",
            "Grade is  2  for  80\n",
            "Grade is  0 for no score\n"
          ]
        }
      ]
    },
    {
      "cell_type": "code",
      "source": [
        "def report(name, age, score):\n",
        "    print(name, score)\n",
        "\n",
        "report(age=10, name=\"Kim\", score=80)\n"
      ],
      "metadata": {
        "colab": {
          "base_uri": "https://localhost:8080/"
        },
        "id": "BDZKLh04AvTg",
        "outputId": "42ad408f-f388-42e8-d5d9-e7498ce1d14d"
      },
      "execution_count": 16,
      "outputs": [
        {
          "output_type": "stream",
          "name": "stdout",
          "text": [
            "Kim 80\n"
          ]
        }
      ]
    }
  ]
}